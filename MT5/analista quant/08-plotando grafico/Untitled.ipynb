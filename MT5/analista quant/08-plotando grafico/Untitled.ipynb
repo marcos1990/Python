{
 "cells": [
  {
   "cell_type": "code",
   "execution_count": 4,
   "id": "e52f5d46",
   "metadata": {},
   "outputs": [
    {
     "ename": "RuntimeError",
     "evalue": "module compiled against API version 0x10 but this version of numpy is 0xe . Check the section C-API incompatibility at the Troubleshooting ImportError section at https://numpy.org/devdocs/user/troubleshooting-importerror.html#c-api-incompatibility for indications on how to solve this problem .",
     "output_type": "error",
     "traceback": [
      "\u001b[1;31m---------------------------------------------------------------------------\u001b[0m",
      "\u001b[1;31mRuntimeError\u001b[0m                              Traceback (most recent call last)",
      "\u001b[1;31mRuntimeError\u001b[0m: module compiled against API version 0x10 but this version of numpy is 0xe . Check the section C-API incompatibility at the Troubleshooting ImportError section at https://numpy.org/devdocs/user/troubleshooting-importerror.html#c-api-incompatibility for indications on how to solve this problem ."
     ]
    },
    {
     "ename": "ImportError",
     "evalue": "numpy.core.multiarray failed to import",
     "output_type": "error",
     "traceback": [
      "\u001b[1;31m---------------------------------------------------------------------------\u001b[0m",
      "\u001b[1;31mImportError\u001b[0m                               Traceback (most recent call last)",
      "\u001b[1;32m~\\AppData\\Local\\Temp\\ipykernel_4580\\3576362230.py\u001b[0m in \u001b[0;36m<module>\u001b[1;34m\u001b[0m\n\u001b[0;32m      1\u001b[0m \u001b[1;32mimport\u001b[0m \u001b[0mtime\u001b[0m\u001b[1;33m\u001b[0m\u001b[1;33m\u001b[0m\u001b[0m\n\u001b[1;32m----> 2\u001b[1;33m \u001b[1;32mimport\u001b[0m \u001b[0mMetaTrader5\u001b[0m \u001b[1;32mas\u001b[0m \u001b[0mmt5\u001b[0m       \u001b[1;31m#importa a biblioteca\u001b[0m\u001b[1;33m\u001b[0m\u001b[1;33m\u001b[0m\u001b[0m\n\u001b[0m\u001b[0;32m      3\u001b[0m \u001b[1;32mfrom\u001b[0m \u001b[0mdatetime\u001b[0m \u001b[1;32mimport\u001b[0m \u001b[0mdatetime\u001b[0m\u001b[1;33m\u001b[0m\u001b[1;33m\u001b[0m\u001b[0m\n\u001b[0;32m      4\u001b[0m \u001b[1;32mimport\u001b[0m \u001b[0mpandas\u001b[0m \u001b[1;32mas\u001b[0m \u001b[0mpd\u001b[0m\u001b[1;33m\u001b[0m\u001b[1;33m\u001b[0m\u001b[0m\n\u001b[0;32m      5\u001b[0m \u001b[1;33m\u001b[0m\u001b[0m\n",
      "\u001b[1;32m~\\anaconda3\\lib\\site-packages\\MetaTrader5\\__init__.py\u001b[0m in \u001b[0;36m<module>\u001b[1;34m\u001b[0m\n\u001b[0;32m    255\u001b[0m \u001b[1;33m\u001b[0m\u001b[0m\n\u001b[0;32m    256\u001b[0m \u001b[1;31m# import C methods to our module\u001b[0m\u001b[1;33m\u001b[0m\u001b[1;33m\u001b[0m\u001b[0m\n\u001b[1;32m--> 257\u001b[1;33m \u001b[1;32mfrom\u001b[0m \u001b[1;33m.\u001b[0m\u001b[0m_core\u001b[0m \u001b[1;32mimport\u001b[0m \u001b[1;33m*\u001b[0m\u001b[1;33m\u001b[0m\u001b[1;33m\u001b[0m\u001b[0m\n\u001b[0m\u001b[0;32m    258\u001b[0m \u001b[1;33m\u001b[0m\u001b[0m\n\u001b[0;32m    259\u001b[0m \u001b[1;31m# internal order send\u001b[0m\u001b[1;33m\u001b[0m\u001b[1;33m\u001b[0m\u001b[0m\n",
      "\u001b[1;31mImportError\u001b[0m: numpy.core.multiarray failed to import"
     ]
    }
   ],
   "source": [
    "import time\n",
    "import MetaTrader5 as mt5       #importa a biblioteca\n",
    "from datetime import datetime\n",
    "import pandas as pd\n",
    "\n",
    "if not mt5.initialize():        #inicia o metatrader 5\n",
    "    print(f\"Não foi possível iniciar o MT5! -> {mt5.last_error()}\")\n",
    "    quit()\n",
    "\n",
    "#----------COLETANDO CANDLES-------------\n",
    "ativo = \"WINJ23\"        # nome do ativo a ser pesquisado\n",
    "timeframe = mt5.TIMEFRAME_H1    # período gráfico (H1 = período horário)\n",
    "qntd_candles = 100         # número de ticks solicitados\n",
    "dia = time.time()      # data atual, (os candles são retornados da maneira retrograda)\n",
    "\n",
    "dados = mt5.copy_rates_from(ativo, timeframe, dia, qntd_candles)       # a Array \"dados\" recebe as informações do \"ativo\"\n",
    "\n",
    "arq = pd.DataFrame(dados)\n",
    "\n",
    "arq[\"time\"] = pd.to_datetime(arq[\"time\"], unit=\"s\") # transforma a coluna de data, de horário GMT para horário UTC\n",
    "print(arq)\n",
    "\n",
    "arq.to_csv(\"dados.csv\", index=False)\n",
    "\n",
    "mt5.shutdown()      #encerra o metatrader\n"
   ]
  },
  {
   "cell_type": "code",
   "execution_count": 2,
   "id": "29a0a5be",
   "metadata": {},
   "outputs": [
    {
     "name": "stdout",
     "output_type": "stream",
     "text": [
      "Collecting MetaTrader5\n",
      "  Downloading MetaTrader5-5.0.44-cp39-cp39-win_amd64.whl (57 kB)\n",
      "     ---------------------------------------- 57.1/57.1 kB 2.9 MB/s eta 0:00:00\n",
      "Requirement already satisfied: numpy>=1.7 in c:\\users\\marco\\anaconda3\\lib\\site-packages (from MetaTrader5) (1.21.5)\n",
      "Installing collected packages: MetaTrader5\n",
      "Successfully installed MetaTrader5-5.0.44\n",
      "Note: you may need to restart the kernel to use updated packages.\n"
     ]
    }
   ],
   "source": [
    "pip install MetaTrader5"
   ]
  },
  {
   "cell_type": "code",
   "execution_count": null,
   "id": "ff4b9388",
   "metadata": {},
   "outputs": [],
   "source": []
  }
 ],
 "metadata": {
  "kernelspec": {
   "display_name": "Python 3 (ipykernel)",
   "language": "python",
   "name": "python3"
  },
  "language_info": {
   "codemirror_mode": {
    "name": "ipython",
    "version": 3
   },
   "file_extension": ".py",
   "mimetype": "text/x-python",
   "name": "python",
   "nbconvert_exporter": "python",
   "pygments_lexer": "ipython3",
   "version": "3.9.13"
  }
 },
 "nbformat": 4,
 "nbformat_minor": 5
}
